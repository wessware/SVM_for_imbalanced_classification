{
    "cells": [
        {
            "cell_type": "code",
            "execution_count": 19,
            "source": [
                "from collections import Counter\r\n",
                "from sklearn.datasets import make_classification\r\n",
                "from matplotlib import pyplot\r\n",
                "from numpy import where\r\n",
                "from numpy import mean \r\n",
                "from sklearn.model_selection import cross_val_score\r\n",
                "from sklearn.model_selection import RepeatedStratifiedKFold\r\n",
                "from sklearn.svm import SVC \r\n",
                "from sklearn.model_selection import GridSearchCV"
            ],
            "outputs": [],
            "metadata": {}
        },
        {
            "cell_type": "code",
            "execution_count": 3,
            "source": [
                " X, y = make_classification(\r\n",
                "    n_samples=10000, \r\n",
                "    n_features=2, \r\n",
                "    n_redundant=0, \r\n",
                "    n_clusters_per_class=1, \r\n",
                "    weights=[0.99], \r\n",
                "    flip_y=0, \r\n",
                "    random_state=4\r\n",
                "    )"
            ],
            "outputs": [],
            "metadata": {}
        },
        {
            "cell_type": "code",
            "execution_count": 4,
            "source": [
                "counter = Counter(y)\r\n",
                "print(counter)"
            ],
            "outputs": [
                {
                    "output_type": "stream",
                    "name": "stdout",
                    "text": [
                        "Counter({0: 9900, 1: 100})\n"
                    ]
                }
            ],
            "metadata": {}
        },
        {
            "cell_type": "code",
            "execution_count": 5,
            "source": [
                "for label, _ in counter.items():\r\n",
                "    row_ix = where(y == label)[0]\r\n",
                "    pyplot.scatter(X[row_ix, 0], X[row_ix, 1], label=str(label))\r\n",
                "pyplot.legend()\r\n",
                "pyplot.show()"
            ],
            "outputs": [
                {
                    "output_type": "display_data",
                    "data": {
                        "text/plain": [
                            "<Figure size 432x288 with 1 Axes>"
                        ],
                        "image/png": "[encoded data removed]"
                    },
                    "metadata": {
                        "needs_background": "light"
                    }
                }
            ],
            "metadata": {}
        },
        {
            "cell_type": "code",
            "execution_count": 7,
            "source": [
                "svm_model = SVC(gamma='scale')"
            ],
            "outputs": [],
            "metadata": {}
        },
        {
            "cell_type": "code",
            "execution_count": 8,
            "source": [
                "cross_val = RepeatedStratifiedKFold(\r\n",
                "    n_splits=10, \r\n",
                "    n_repeats=3, random_state=1\r\n",
                "    )"
            ],
            "outputs": [],
            "metadata": {}
        },
        {
            "cell_type": "code",
            "execution_count": 9,
            "source": [
                "scores = cross_val_score(svm_model, X, y, scoring='roc_auc', cv=cross_val, n_jobs=-1)"
            ],
            "outputs": [],
            "metadata": {}
        },
        {
            "cell_type": "code",
            "execution_count": 10,
            "source": [
                "print('Mean ROC AUC: %.3f' % mean(scores))"
            ],
            "outputs": [
                {
                    "output_type": "stream",
                    "name": "stdout",
                    "text": [
                        "Mean ROC AUC: 0.808\n"
                    ]
                }
            ],
            "metadata": {}
        },
        {
            "cell_type": "code",
            "execution_count": 11,
            "source": [
                "svm_model_1 = SVC(gamma='scale', class_weight='balanced')"
            ],
            "outputs": [],
            "metadata": {}
        },
        {
            "cell_type": "code",
            "execution_count": 12,
            "source": [
                "cross_val = RepeatedStratifiedKFold(\r\n",
                "    n_splits=10, \r\n",
                "    n_repeats=3, \r\n",
                "    random_state=1\r\n",
                "    )"
            ],
            "outputs": [],
            "metadata": {}
        },
        {
            "cell_type": "code",
            "execution_count": 13,
            "source": [
                "scores = cross_val_score(svm_model_1, X, y, scoring='roc_auc', cv=cross_val, n_jobs=-1)"
            ],
            "outputs": [],
            "metadata": {}
        },
        {
            "cell_type": "code",
            "execution_count": 14,
            "source": [
                "print('Mean ROC AUC: %.3f' % mean(scores))"
            ],
            "outputs": [
                {
                    "output_type": "stream",
                    "name": "stdout",
                    "text": [
                        "Mean ROC AUC: 0.967\n"
                    ]
                }
            ],
            "metadata": {}
        },
        {
            "cell_type": "code",
            "execution_count": 15,
            "source": [
                "svm_model_2 = SVC(gamma='scale')"
            ],
            "outputs": [],
            "metadata": {}
        },
        {
            "cell_type": "code",
            "execution_count": 16,
            "source": [
                "balance = [{0:100,1:1}, {0:10,1:1}, {0:1,1:1}, {0:1,1:10}, {0:1,1:100}]\r\n",
                "param_grid = dict(class_weight=balance)"
            ],
            "outputs": [],
            "metadata": {}
        },
        {
            "cell_type": "code",
            "execution_count": 17,
            "source": [
                "cross_val = RepeatedStratifiedKFold(\r\n",
                "    n_splits=10, \r\n",
                "    n_repeats=3, \r\n",
                "    random_state=1\r\n",
                "    )"
            ],
            "outputs": [],
            "metadata": {}
        },
        {
            "cell_type": "code",
            "execution_count": 20,
            "source": [
                "grid = GridSearchCV(estimator=svm_model_2, param_grid=param_grid, n_jobs=-1, cv=cross_val, scoring='roc_auc')"
            ],
            "outputs": [],
            "metadata": {}
        },
        {
            "cell_type": "code",
            "execution_count": 21,
            "source": [
                "grid_result = grid.fit(X, y)"
            ],
            "outputs": [],
            "metadata": {}
        },
        {
            "cell_type": "code",
            "execution_count": 22,
            "source": [
                "print(\"Best: %f using %s\" % (grid_result.best_score_, grid_result.best_params_))"
            ],
            "outputs": [
                {
                    "output_type": "stream",
                    "name": "stdout",
                    "text": [
                        "Best: 0.967747 using {'class_weight': {0: 1, 1: 100}}\n"
                    ]
                }
            ],
            "metadata": {}
        },
        {
            "cell_type": "code",
            "execution_count": 23,
            "source": [
                "means = grid_result.cv_results_['mean_test_score']"
            ],
            "outputs": [],
            "metadata": {}
        },
        {
            "cell_type": "code",
            "execution_count": 24,
            "source": [
                "stds = grid_result.cv_results_['std_test_score']"
            ],
            "outputs": [],
            "metadata": {}
        },
        {
            "cell_type": "code",
            "execution_count": 25,
            "source": [
                "params = grid_result.cv_results_['params']"
            ],
            "outputs": [],
            "metadata": {}
        },
        {
            "cell_type": "code",
            "execution_count": 26,
            "source": [
                "for mean, stdev, param in zip(means, stds, params):\r\n",
                "    print(\"%f (%f) with: %r\" % (mean, stdev, param))"
            ],
            "outputs": [
                {
                    "output_type": "stream",
                    "name": "stdout",
                    "text": [
                        "0.742960 (0.149857) with: {'class_weight': {0: 100, 1: 1}}\n",
                        "0.748404 (0.149873) with: {'class_weight': {0: 10, 1: 1}}\n",
                        "0.807960 (0.126354) with: {'class_weight': {0: 1, 1: 1}}\n",
                        "0.934401 (0.065202) with: {'class_weight': {0: 1, 1: 10}}\n",
                        "0.967747 (0.038637) with: {'class_weight': {0: 1, 1: 100}}\n"
                    ]
                }
            ],
            "metadata": {}
        },
        {
            "cell_type": "code",
            "execution_count": null,
            "source": [],
            "outputs": [],
            "metadata": {}
        }
    ],
    "metadata": {
        "orig_nbformat": 4,
        "language_info": {
            "name": "python",
            "version": "3.9.5",
            "mimetype": "text/x-python",
            "codemirror_mode": {
                "name": "ipython",
                "version": 3
            },
            "pygments_lexer": "ipython3",
            "nbconvert_exporter": "python",
            "file_extension": ".py"
        },
        "kernelspec": {
            "name": "python3",
            "display_name": "Python 3.9.5 64-bit"
        },
        "interpreter": {
            "hash": "ce1e901da04acbe50dd99cd0d91cb411cb2166c3507dec81ce620981a8df4741"
        }
    },
    "nbformat": 4,
    "nbformat_minor": 2
}